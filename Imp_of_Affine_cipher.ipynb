{
  "nbformat": 4,
  "nbformat_minor": 0,
  "metadata": {
    "colab": {
      "name": "week2_tast2_72_CNS.ipynb",
      "provenance": [],
      "collapsed_sections": [],
      "authorship_tag": "ABX9TyOkA6PySsm8WTU7fwHb/Kf1",
      "include_colab_link": true
    },
    "kernelspec": {
      "name": "python3",
      "display_name": "Python 3"
    }
  },
  "cells": [
    {
      "cell_type": "markdown",
      "metadata": {
        "id": "view-in-github",
        "colab_type": "text"
      },
      "source": [
        "<a href=\"https://colab.research.google.com/github/Heartbeat143/Implementation-of-Affine-Cipher/blob/master/Imp_of_Affine_cipher.ipynb\" target=\"_parent\"><img src=\"https://colab.research.google.com/assets/colab-badge.svg\" alt=\"Open In Colab\"/></a>"
      ]
    },
    {
      "cell_type": "markdown",
      "metadata": {
        "id": "YDHjGZxOFnKk",
        "colab_type": "text"
      },
      "source": [
        "# ***Implementation of Affine Cipher***\n",
        "The affine cipher is a combination of additive cipher and multiplicative cipher (Link for more info [Click here](https://www.geeksforgeeks.org/traditional-symmetric-ciphers/))\n",
        "\n",
        "```\n",
        "  C = [(P * a) + b] mod n        # C = Chiper text , P = Plain text, n = 26 (length of alphabets)\n",
        "  P = [(C – b) * a^(-1) ] mod n     # (a,b) two keys are used for Affine Cipher\n",
        "```\n",
        "\n"
      ]
    },
    {
      "cell_type": "markdown",
      "metadata": {
        "id": "6t3Uf2TdKNUW",
        "colab_type": "text"
      },
      "source": [
        "# User input and Preprocessing"
      ]
    },
    {
      "cell_type": "code",
      "metadata": {
        "id": "EMtHkE6kFzVp",
        "colab_type": "code",
        "colab": {
          "base_uri": "https://localhost:8080/",
          "height": 69
        },
        "outputId": "ff4e6f74-d3e5-461a-80e9-4f1de7a2b123"
      },
      "source": [
        "alphabets = \"abcdefghijklmnopqrstuvwxyz\"\n",
        "alpha_order = dict()\n",
        "inv_alpha = dict()\n",
        "for i,ch in enumerate(alphabets):\n",
        "    alpha_order[ch] = i\n",
        "    inv_alpha[i] = ch\n",
        "  \n",
        "#input for key(a,b) and Plain text\n",
        "print(\"NOTE:- Keys should be Relative prime i.e. gcd(a,b) = 1\")\n",
        "key = list(map(int, input(\"Enter key values a and b for key(a,b) :\").split()))\n",
        "plain_text = input(\"Enter plain text (only letters): \").lower().replace(\" \", \"\")"
      ],
      "execution_count": 48,
      "outputs": [
        {
          "output_type": "stream",
          "text": [
            "NOTE:- Keys should be Relative prime i.e. gcd(a,b) = 1\n",
            "Enter key values a and b for key(a,b) :17 20\n",
            "Enter plain text (only letters): hello guys thanks\n"
          ],
          "name": "stdout"
        }
      ]
    },
    {
      "cell_type": "markdown",
      "metadata": {
        "id": "bVpig657KDKX",
        "colab_type": "text"
      },
      "source": [
        "# Encryption"
      ]
    },
    {
      "cell_type": "code",
      "metadata": {
        "id": "JjS0ZiGcKIT8",
        "colab_type": "code",
        "colab": {
          "base_uri": "https://localhost:8080/",
          "height": 69
        },
        "outputId": "e6956060-0b7d-476e-bc05-5e4f0d8b76f6"
      },
      "source": [
        "encrypted = dict()\n",
        "for char in set(plain_text):\n",
        "  encrypted[char] = ''\n",
        "\n",
        "a,b = key[0], key[1]\n",
        "for ch in encrypted.keys():\n",
        "  val = ( a * alpha_order[ch] + b ) % 26     # Ci = ( a * Pi + b ) mod 26 \n",
        "  encrypted[ch] = inv_alpha[val]\n",
        "  # print(ch,':',inv_alpha[val])\n",
        "\n",
        "print(encrypted,' are mapping of chars.')\n",
        "\n",
        "cipher_text=''\n",
        "for ch in plain_text:\n",
        "  if ch not in encrypted.keys():\n",
        "    cipher_text += ch\n",
        "  else:\n",
        "    cipher_text += encrypted[ch]\n",
        "\n",
        "print(\"Plain text is  :\", plain_text)\n",
        "print(\"Cipher text is :\", cipher_text)"
      ],
      "execution_count": 53,
      "outputs": [
        {
          "output_type": "stream",
          "text": [
            "{'e': 'k', 'u': 'w', 'o': 'y', 'l': 'z', 'n': 'h', 'k': 'i', 'g': 's', 's': 'o', 'a': 'u', 't': 'f', 'h': 'j', 'y': 'm'}  are mapping of chars.\n",
            "Plain text is  : helloguysthanks\n",
            "Cipher text is : jkzzyswmofjuhio\n"
          ],
          "name": "stdout"
        }
      ]
    },
    {
      "cell_type": "markdown",
      "metadata": {
        "id": "KyNrTO1oL-nY",
        "colab_type": "text"
      },
      "source": [
        "# Decryption"
      ]
    },
    {
      "cell_type": "code",
      "metadata": {
        "id": "vE_vduXhMCGM",
        "colab_type": "code",
        "colab": {
          "base_uri": "https://localhost:8080/",
          "height": 69
        },
        "outputId": "e52a37c7-f430-4404-a90e-5fdd083f0399"
      },
      "source": [
        "def modInverse(a, m) : \n",
        "    a = a % m; \n",
        "    for x in range(1, m) : \n",
        "        if ((a * x) % m == 1) : \n",
        "            return x \n",
        "    return 1\n",
        "\n",
        "decrypted = dict()\n",
        "for char in cipher_text:\n",
        "  decrypted[char] = ''\n",
        "\n",
        "a,b = key[0], key[1]\n",
        "a_inv = modInverse(a,26)   #finding a inverse in 26\n",
        "\n",
        "for ch in decrypted.keys():\n",
        "  val =( (alpha_order[ch]  - b ) * a_inv  ) % 26  # Pi  = [(Ci - b ) * a^(-1) ] mod 26\n",
        "  decrypted[ch] = inv_alpha[val]\n",
        "\n",
        "print(decrypted,\"are reverse-mapping of chars.\")\n",
        "\n",
        "p_text=''\n",
        "for ch in cipher_text:\n",
        "    p_text += decrypted[ch]\n",
        "\n",
        "print(\"Cipher text is :\",cipher_text)\n",
        "print(\"Plain text is  :\",p_text)\n"
      ],
      "execution_count": 54,
      "outputs": [
        {
          "output_type": "stream",
          "text": [
            "{'j': 'h', 'k': 'e', 'z': 'l', 'y': 'o', 's': 'g', 'w': 'u', 'm': 'y', 'o': 's', 'f': 't', 'u': 'a', 'h': 'n', 'i': 'k'} are reverse-mapping of chars.\n",
            "Cipher text is : jkzzyswmofjuhio\n",
            "Plain text is  : helloguysthanks\n"
          ],
          "name": "stdout"
        }
      ]
    }
  ]
}